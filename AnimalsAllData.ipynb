{
 "cells": [
  {
   "cell_type": "markdown",
   "id": "toxic-ordering",
   "metadata": {
    "id": "toxic-ordering"
   },
   "source": [
    "# Using VGG16 and MobileNet to create a Model to detect between 10 Different Animals"
   ]
  },
  {
   "cell_type": "markdown",
   "id": "pending-attempt",
   "metadata": {
    "id": "pending-attempt"
   },
   "source": [
    "## Importing all the necessary modules for this Project"
   ]
  },
  {
   "cell_type": "code",
   "execution_count": null,
   "id": "thousand-counter",
   "metadata": {
    "id": "thousand-counter"
   },
   "outputs": [],
   "source": [
    "import numpy as np\n",
    "import pandas as pd\n",
    "import matplotlib.pyplot as plt\n",
    "\n",
    "import tensorflow as tf\n",
    "from tensorflow import keras\n",
    "# from tensorflow.keras.preprocessing.image import ImageDataGenerator\n",
    "# This import is used for Generating multiple similar images\n",
    "# It is omitted in this project as the dataset was already very large\n",
    "\n",
    "from sklearn.metrics import confusion_matrix\n",
    "import itertools\n",
    "\n",
    "import os\n",
    "from PIL import Image\n",
    "import random\n",
    "from sklearn.utils import shuffle"
   ]
  },
  {
   "cell_type": "code",
   "execution_count": null,
   "id": "spoken-convention",
   "metadata": {
    "colab": {
     "base_uri": "https://localhost:8080/"
    },
    "id": "spoken-convention",
    "outputId": "824ff977-c0bb-4fcb-b1b8-74e99d4411fc"
   },
   "outputs": [
    {
     "name": "stdout",
     "output_type": "stream",
     "text": [
      "Num GPUs Available:  1\n"
     ]
    }
   ],
   "source": [
    "\"\"\"\n",
    "Activating GPUs\n",
    "\"\"\"\n",
    "\n",
    "physical_devices = tf.config.experimental.list_physical_devices('GPU')\n",
    "print(\"Num GPUs Available: \", len(physical_devices))\n",
    "for i in range(len(physical_devices)):\n",
    "    tf.config.experimental.set_memory_growth(physical_devices[i], True)"
   ]
  },
  {
   "cell_type": "markdown",
   "id": "failing-deployment",
   "metadata": {
    "id": "failing-deployment"
   },
   "source": [
    "## Creating a Dictionary to Alter the given information to English"
   ]
  },
  {
   "cell_type": "code",
   "execution_count": null,
   "id": "separated-racing",
   "metadata": {
    "id": "separated-racing"
   },
   "outputs": [],
   "source": [
    "translate = {\"Butterfly\": \"farfalla\", \n",
    "             \"Cat\": \"gatto\", \n",
    "             \"Chicken\": \"gallina\", \n",
    "             \"Cow\": \"mucca\",\n",
    "             \"Dog\": \"cane\",  \n",
    "             \"Elephant\" : \"elefante\", \n",
    "             \"Horse\": \"cavallo\",\n",
    "             \"Sheep\": \"pecora\",\n",
    "             \"Spider\": \"ragno\", \n",
    "             \"Squirrel\": \"scoiattolo\", \n",
    "             \"farfalla\": \"Butterfly\", \n",
    "             \"gatto\": \"Cat\", \n",
    "             \"gallina\": \"Chicken\", \n",
    "             \"mucca\": \"Cow\", \n",
    "             \"cane\": \"Dog\", \n",
    "             \"elefante\": \"Elephant\", \n",
    "             \"cavallo\": \"Horse\", \n",
    "             \"pecora\": \"Sheep\", \n",
    "             \"ragno\": \"Spider\", \n",
    "             \"scoiattolo\": \"Squirrel\"}"
   ]
  },
  {
   "cell_type": "code",
   "execution_count": null,
   "id": "anticipated-arkansas",
   "metadata": {
    "id": "anticipated-arkansas"
   },
   "outputs": [],
   "source": [
    "class_labels = ['Butterfly', 'Cat', 'Chicken', 'Cow', 'Dog', 'Elephant', 'Horse', 'Sheep', 'Spider', 'Squirrel']"
   ]
  },
  {
   "cell_type": "markdown",
   "id": "unusual-maintenance",
   "metadata": {
    "id": "unusual-maintenance"
   },
   "source": [
    "## Downloading all the Images and Resizing them to the Standard Size"
   ]
  },
  {
   "cell_type": "code",
   "execution_count": null,
   "id": "sublime-ranch",
   "metadata": {},
   "outputs": [],
   "source": [
    "\"\"\"\n",
    "Used for creating similar images of the ones already in the Dataset.\n",
    "Omitted in this project due the large dataset.\n",
    "\n",
    "gen = ImageDataGenerator(rotation_range=10, \n",
    "                         width_shift_range=0.1, \n",
    "                         height_shift_range=0.1, \n",
    "                         shear_range=0.15, \n",
    "                         zoom_range=0.1, \n",
    "                         channel_shift_range=10., \n",
    "                         horizontal_flip=True)\n",
    "\"\"\""
   ]
  },
  {
   "cell_type": "code",
   "execution_count": null,
   "id": "criminal-reservation",
   "metadata": {
    "colab": {
     "base_uri": "https://localhost:8080/"
    },
    "id": "criminal-reservation",
    "outputId": "1f78e788-edc4-4925-abfc-06d8d7f302ae"
   },
   "outputs": [
    {
     "name": "stdout",
     "output_type": "stream",
     "text": [
      "Completed Importing and Sorting All Elephant Images\n",
      "Completed Importing and Sorting All Chicken Images\n",
      "Completed Importing and Sorting All Butterfly Images\n",
      "Completed Importing and Sorting All Horse Images\n",
      "Completed Importing and Sorting All Spider Images\n",
      "Completed Importing and Sorting All Cat Images\n",
      "Completed Importing and Sorting All Squirrel Images\n",
      "Completed Importing and Sorting All Cow Images\n",
      "Completed Importing and Sorting All Sheep Images\n",
      "Completed Importing and Sorting All Dog Images\n",
      "Completed Importing All Images\n",
      "CPU times: user 1min 52s, sys: 10.5 s, total: 2min 3s\n",
      "Wall time: 2h 15min 35s\n"
     ]
    }
   ],
   "source": [
    "%%time\n",
    "\n",
    "Train_Data = []\n",
    "Train_Labels = []\n",
    "\n",
    "Validation_Data = []\n",
    "Validation_Labels = []\n",
    "\n",
    "Test_Data = []\n",
    "Test_Labels = []\n",
    "\n",
    "directory = \"raw-img/\"\n",
    "for animal in os.listdir(directory):\n",
    "    Pictures = []\n",
    "    Labels = []\n",
    "    \n",
    "    for img_name in os.listdir(directory+animal):\n",
    "        img = Image.open(directory + \"/\" + animal + \"/\" + img_name)\n",
    "        img = img.resize((224, 224)) # Resizing all the images to the same size is necessary to train the model. \n",
    "        img = np.asarray(img)\n",
    "#         if img.shape == (224, 224, 3):\n",
    "#           img = np.asarray([img])\n",
    "#           aug_iter = gen.flow(img)\n",
    "#           aug_images = [next(aug_iter)[0].astype(np.uint8) for i in range(2)] \n",
    "#           # Creates 2 unique images that are slightly modified from the original image\n",
    "          \n",
    "#           for img in aug_images:\n",
    "\"\"\"\n",
    "Code for Generating multiple similar images but omitted due to already large data set.\n",
    "\"\"\"        \n",
    "\n",
    "        if img.shape == (224, 224, 3):\n",
    "            Pictures.append(img)\n",
    "            Labels.append(class_labels.index(translate[animal]))\n",
    "            \n",
    "    # Randomly assigning all the images to Validation, Test, and Train Data Sets.\n",
    "    \n",
    "    for _ in range(50): # Validation Data will have 50 Images for each animal (Thus 500 for all 10 animals)\n",
    "        i = random.randint(0, len(Pictures)-1)\n",
    "        Validation_Data.append(Pictures.pop(i))\n",
    "        Validation_Labels.append(Labels.pop(i))\n",
    "    \n",
    "    for _ in range(400): # Test Data will have 400 Images for each animal (Thus 4000 for all 10 animals)\n",
    "        i = random.randint(0, len(Pictures)-1)\n",
    "        Test_Data.append(Pictures.pop(i))\n",
    "        Test_Labels.append(Labels.pop(i))\n",
    "    \n",
    "    # Train Data will have the rest of the images\n",
    "    Train_Data.extend(Pictures)\n",
    "    Train_Labels.extend(Labels)\n",
    "    \n",
    "    print(\"Completed Importing and Sorting All \" + translate[animal] + \" Images\")\n",
    "\n",
    "# Converting all lists to numpy arrays\n",
    "Train_Data = np.asarray(Train_Data)\n",
    "Train_Labels = np.asarray(Train_Labels)\n",
    "\n",
    "Validation_Data = np.asarray(Validation_Data)\n",
    "Validation_Labels = np.asarray(Validation_Labels)\n",
    "\n",
    "Test_Data = np.asarray(Test_Data)\n",
    "Test_Labels = np.asarray(Test_Labels)\n",
    "    \n",
    "print(\"Completed Importing All Images\")"
   ]
  },
  {
   "cell_type": "markdown",
   "id": "impressed-decade",
   "metadata": {
    "id": "impressed-decade"
   },
   "source": [
    "## Shuffling All Data"
   ]
  },
  {
   "cell_type": "code",
   "execution_count": null,
   "id": "human-hobby",
   "metadata": {
    "id": "human-hobby"
   },
   "outputs": [],
   "source": [
    "\"\"\"\n",
    "Shuffling all the Images so there is no bias in training the model.\n",
    "\"\"\"\n",
    "\n",
    "Train_Data, Train_Labels = shuffle(Train_Data, Train_Labels)\n",
    "Validation_Data, Validation_Labels = shuffle(Validation_Data, Validation_Labels)\n",
    "Test_Data, Test_Labels = shuffle(Test_Data, Test_Labels)"
   ]
  },
  {
   "cell_type": "markdown",
   "id": "amazing-solomon",
   "metadata": {
    "id": "amazing-solomon"
   },
   "source": [
    "## VGG16 Model\n",
    "More Information at https://neurohive.io/en/popular-networks/vgg16/"
   ]
  },
  {
   "cell_type": "code",
   "execution_count": null,
   "id": "outside-genre",
   "metadata": {
    "colab": {
     "base_uri": "https://localhost:8080/"
    },
    "id": "outside-genre",
    "outputId": "819256dd-6d13-4f1c-819f-7287d9d66f76"
   },
   "outputs": [
    {
     "name": "stdout",
     "output_type": "stream",
     "text": [
      "Downloading data from https://storage.googleapis.com/tensorflow/keras-applications/vgg16/vgg16_weights_tf_dim_ordering_tf_kernels.h5\n",
      "553467904/553467096 [==============================] - 4s 0us/step\n"
     ]
    }
   ],
   "source": [
    "\"\"\"\n",
    "Requires Internet Connection\n",
    "\"\"\"\n",
    "vgg16_model = keras.applications.vgg16.VGG16()"
   ]
  },
  {
   "cell_type": "code",
   "execution_count": null,
   "id": "plastic-distributor",
   "metadata": {
    "id": "plastic-distributor"
   },
   "outputs": [],
   "source": [
    "\"\"\"\n",
    "Duplicating the VGG16 model to use it as a sequential model and setting the trainable of all of the VGG16 layers to false.\n",
    "\"\"\"\n",
    "vgg16_sequential_model = keras.Sequential()\n",
    "\n",
    "for layer in vgg16_model.layers[:-1]:\n",
    "    vgg16_sequential_model.add(layer)\n",
    "\n",
    "for layer in vgg16_sequential_model.layers:\n",
    "    layer.trainable = False"
   ]
  },
  {
   "cell_type": "code",
   "execution_count": null,
   "id": "frank-taiwan",
   "metadata": {
    "id": "frank-taiwan"
   },
   "outputs": [],
   "source": [
    "\"\"\"\n",
    "Creating an output layer of 10 units because of our data having 10 unique animals.\n",
    "\"\"\"\n",
    "vgg16_sequential_model.add(keras.layers.Dense(units=10, activation=\"softmax\"))"
   ]
  },
  {
   "cell_type": "code",
   "execution_count": null,
   "id": "common-modern",
   "metadata": {
    "colab": {
     "base_uri": "https://localhost:8080/"
    },
    "id": "common-modern",
    "outputId": "9d3a67c0-0e6c-4b14-eeb3-6f6c1cbb3d7d"
   },
   "outputs": [
    {
     "name": "stdout",
     "output_type": "stream",
     "text": [
      "Epoch 1/2\n",
      "676/676 [==============================] - 131s 141ms/step - loss: 0.4288 - accuracy: 0.8920 - val_loss: 0.7737 - val_accuracy: 0.8540\n",
      "Epoch 2/2\n",
      "676/676 [==============================] - 95s 141ms/step - loss: 0.2325 - accuracy: 0.9375 - val_loss: 0.5034 - val_accuracy: 0.8960\n",
      "CPU times: user 45.6 s, sys: 5.03 s, total: 50.7 s\n",
      "Wall time: 4min 22s\n"
     ]
    }
   ],
   "source": [
    "%%time\n",
    "\"\"\"\n",
    "Compiling and Training the sequential VGG16 model.\n",
    "\"\"\"\n",
    "vgg16_sequential_model.compile(optimizer='adam',\n",
    "              loss='sparse_categorical_crossentropy',\n",
    "              metrics=['accuracy'])\n",
    "vgg16_sequential_model.fit(Train_Data, Train_Labels, validation_data=(Validation_Data, Validation_Labels), epochs=2, shuffle=True)"
   ]
  },
  {
   "cell_type": "code",
   "execution_count": null,
   "id": "extra-founder",
   "metadata": {
    "colab": {
     "base_uri": "https://localhost:8080/"
    },
    "id": "extra-founder",
    "outputId": "a7d3e178-e7cc-475b-8374-64402e770333"
   },
   "outputs": [
    {
     "name": "stdout",
     "output_type": "stream",
     "text": [
      "125/125 [==============================] - 17s 134ms/step - loss: 0.4654 - accuracy: 0.9015\n"
     ]
    },
    {
     "data": {
      "text/plain": [
       "[0.46537068486213684, 0.9014999866485596]"
      ]
     },
     "execution_count": 12,
     "metadata": {
      "tags": []
     },
     "output_type": "execute_result"
    }
   ],
   "source": [
    "\"\"\"\n",
    "Evaluating the sequential VGG16 model.\n",
    "\"\"\"\n",
    "vgg16_sequential_model.evaluate(Test_Data, Test_Labels)"
   ]
  },
  {
   "cell_type": "markdown",
   "id": "liable-creature",
   "metadata": {
    "id": "liable-creature"
   },
   "source": [
    "## MobileNet\n",
    "More Information at https://deeplizard.com/learn/video/OO4HD-1wRN8"
   ]
  },
  {
   "cell_type": "code",
   "execution_count": null,
   "id": "finnish-saying",
   "metadata": {
    "colab": {
     "base_uri": "https://localhost:8080/"
    },
    "id": "finnish-saying",
    "outputId": "fbe8ac3f-e8ca-4d94-f4b8-a24cdc06c419"
   },
   "outputs": [
    {
     "name": "stdout",
     "output_type": "stream",
     "text": [
      "Downloading data from https://storage.googleapis.com/tensorflow/keras-applications/mobilenet/mobilenet_1_0_224_tf.h5\n",
      "17227776/17225924 [==============================] - 0s 0us/step\n"
     ]
    }
   ],
   "source": [
    "\"\"\"\n",
    "Requires Internet Connection\n",
    "\"\"\"\n",
    "mobilenet = keras.applications.mobilenet.MobileNet()"
   ]
  },
  {
   "cell_type": "code",
   "execution_count": null,
   "id": "czech-nevada",
   "metadata": {
    "id": "czech-nevada"
   },
   "outputs": [],
   "source": [
    "\"\"\"\n",
    "Takes all the layers of MobileNet except for the last 6 layers and creating an output layer of 10 units.\n",
    "\"\"\"\n",
    "x = mobilenet.layers[-6].output\n",
    "output = keras.layers.Dense(units=10, activation=\"softmax\")(x)\n",
    "\n",
    "mobilenet_model = keras.Model(inputs=mobilenet.input, outputs=output)"
   ]
  },
  {
   "cell_type": "code",
   "execution_count": null,
   "id": "dramatic-portfolio",
   "metadata": {
    "colab": {
     "base_uri": "https://localhost:8080/"
    },
    "id": "dramatic-portfolio",
    "outputId": "fbaac689-45e6-45fe-a8af-02d874e13b96",
    "scrolled": true
   },
   "outputs": [
    {
     "name": "stdout",
     "output_type": "stream",
     "text": [
      "Epoch 1/12\n",
      "676/676 [==============================] - 134s 192ms/step - loss: 0.4397 - accuracy: 0.8640 - val_loss: 0.7198 - val_accuracy: 0.8100\n",
      "Epoch 2/12\n",
      "676/676 [==============================] - 128s 189ms/step - loss: 0.2412 - accuracy: 0.9227 - val_loss: 0.2979 - val_accuracy: 0.8940\n",
      "Epoch 3/12\n",
      "676/676 [==============================] - 128s 189ms/step - loss: 0.1798 - accuracy: 0.9405 - val_loss: 0.6539 - val_accuracy: 0.8280\n",
      "Epoch 4/12\n",
      "676/676 [==============================] - 128s 189ms/step - loss: 0.1471 - accuracy: 0.9506 - val_loss: 0.3756 - val_accuracy: 0.8900\n",
      "Epoch 5/12\n",
      "676/676 [==============================] - 129s 191ms/step - loss: 0.1292 - accuracy: 0.9564 - val_loss: 0.7793 - val_accuracy: 0.8100\n",
      "Epoch 6/12\n",
      "676/676 [==============================] - 129s 191ms/step - loss: 0.1151 - accuracy: 0.9635 - val_loss: 0.5669 - val_accuracy: 0.8420\n",
      "Epoch 7/12\n",
      "676/676 [==============================] - 129s 190ms/step - loss: 0.1040 - accuracy: 0.9669 - val_loss: 0.5692 - val_accuracy: 0.8460\n",
      "Epoch 8/12\n",
      "676/676 [==============================] - 129s 191ms/step - loss: 0.0862 - accuracy: 0.9716 - val_loss: 0.4373 - val_accuracy: 0.8860\n",
      "Epoch 9/12\n",
      "676/676 [==============================] - 128s 189ms/step - loss: 0.0898 - accuracy: 0.9699 - val_loss: 0.4824 - val_accuracy: 0.8820\n",
      "Epoch 10/12\n",
      "676/676 [==============================] - 128s 189ms/step - loss: 0.0720 - accuracy: 0.9758 - val_loss: 0.4189 - val_accuracy: 0.9000\n",
      "Epoch 11/12\n",
      "676/676 [==============================] - 127s 189ms/step - loss: 0.0649 - accuracy: 0.9781 - val_loss: 0.4655 - val_accuracy: 0.8800\n",
      "Epoch 12/12\n",
      "676/676 [==============================] - 127s 188ms/step - loss: 0.0676 - accuracy: 0.9776 - val_loss: 0.3639 - val_accuracy: 0.9100\n",
      "CPU times: user 23min 23s, sys: 11.7 s, total: 23min 34s\n",
      "Wall time: 26min 24s\n"
     ]
    }
   ],
   "source": [
    "%%time\n",
    "\"\"\"\n",
    "Compiling and Training the MobileNet model.\n",
    "\"\"\"\n",
    "\n",
    "mobilenet_model.compile(optimizer='adam',\n",
    "              loss='sparse_categorical_crossentropy',\n",
    "              metrics=['accuracy'])\n",
    "\n",
    "mobilenet_model.fit(Train_Data, Train_Labels, validation_data=(Validation_Data, Validation_Labels), epochs=12, shuffle=True)"
   ]
  },
  {
   "cell_type": "code",
   "execution_count": null,
   "id": "passing-fireplace",
   "metadata": {
    "colab": {
     "base_uri": "https://localhost:8080/"
    },
    "id": "passing-fireplace",
    "outputId": "12410009-4e4b-4dc4-9d67-a18e9eca51bf"
   },
   "outputs": [
    {
     "name": "stdout",
     "output_type": "stream",
     "text": [
      "125/125 [==============================] - 4s 32ms/step - loss: 0.4412 - accuracy: 0.8995\n"
     ]
    },
    {
     "data": {
      "text/plain": [
       "[0.44116127490997314, 0.8995000123977661]"
      ]
     },
     "execution_count": 16,
     "metadata": {
      "tags": []
     },
     "output_type": "execute_result"
    }
   ],
   "source": [
    "\"\"\"\n",
    "Evaluating the Model.\n",
    "\"\"\"\n",
    "\n",
    "mobilenet_model.evaluate(Test_Data, Test_Labels)"
   ]
  },
  {
   "cell_type": "markdown",
   "id": "round-medicaid",
   "metadata": {
    "id": "round-medicaid"
   },
   "source": [
    "## Combining the VGG16 Model and the MobileNet Model to Obtain more Accuracy\n",
    "In order to combine the VGG16 Model and the MobileNet Model for the Test Data we will have to use Predict on the VGG16 Model, and MobileNet model using Test Data (Each will return an array of values in which the index of the highest value corresponds to the predicted animal). Then sum the resulting arrays and the index of the highest value corresponds to the predicted animal of the combined model."
   ]
  },
  {
   "cell_type": "code",
   "execution_count": null,
   "id": "dietary-configuration",
   "metadata": {
    "colab": {
     "base_uri": "https://localhost:8080/"
    },
    "id": "dietary-configuration",
    "outputId": "cd4f54e5-8e94-42c8-8f24-9595c3012011"
   },
   "outputs": [
    {
     "name": "stdout",
     "output_type": "stream",
     "text": [
      "CPU times: user 22.6 s, sys: 98.5 ms, total: 22.7 s\n",
      "Wall time: 26 s\n"
     ]
    }
   ],
   "source": [
    "%%time\n",
    "vgg16_percentages = vgg16_sequential_model.predict(Test_Data)\n",
    "mobilenet_percentages = mobilenet_model.predict(Test_Data)\n",
    "\n",
    "combined_percentages = vgg16_percentages + mobilenet_percentages\n",
    "\n",
    "vgg16_predictions = np.argmax(vgg16_percentages, axis=-1)\n",
    "mobilenet_predictions = np.argmax(mobilenet_percentages, axis=-1)\n",
    "combined_predictions = np.argmax(combined_percentages, axis=-1)"
   ]
  },
  {
   "cell_type": "code",
   "execution_count": null,
   "id": "widespread-iraqi",
   "metadata": {
    "colab": {
     "base_uri": "https://localhost:8080/"
    },
    "id": "widespread-iraqi",
    "outputId": "91feba9b-bd4e-4121-ab6d-9343ee555477"
   },
   "outputs": [
    {
     "name": "stdout",
     "output_type": "stream",
     "text": [
      "Accuracy of Combined Predictions:  0.939\n"
     ]
    }
   ],
   "source": [
    "\"\"\"\n",
    "Calculating the Accuracy of the Combined Model.\n",
    "\"\"\"\n",
    "\n",
    "com_acc = np.count_nonzero(combined_predictions==Test_Labels) / len(Test_Labels)\n",
    "print(\"Accuracy of Combined Predictions: \", com_acc)"
   ]
  },
  {
   "cell_type": "code",
   "execution_count": null,
   "id": "floating-choir",
   "metadata": {
    "id": "floating-choir"
   },
   "outputs": [],
   "source": [
    "\"\"\"\n",
    "This function is directly copied from scikit-learn's website. \n",
    "(https://scikit-learn.org/stable/auto_examples/model_selection/plot_confusion_matrix.html#sphx-glr-auto-examples-model-selection-plot-confusion-matrix-py)\n",
    "\"\"\"\n",
    "\n",
    "def plot_confusion_matrix(cm, \n",
    "                          classes, \n",
    "                          normalize=False, \n",
    "                          title=\"Confusion Matrix\", \n",
    "                          cmap=plt.cm.Blues):\n",
    "    \n",
    "    plt.imshow(cm, interpolation=\"nearest\", cmap=cmap)\n",
    "    plt.title(title)\n",
    "    plt.colorbar()\n",
    "    tick_marks = np.arange(len(classes))\n",
    "    plt.xticks(tick_marks, classes, rotation=45)\n",
    "    plt.yticks(tick_marks, classes)\n",
    "    \n",
    "    if normalize:\n",
    "        cm = cm.astype('float') / cm.sum(axis=1)[:, np.newaxis]\n",
    "        print(\"Normalized confusion matrix\")\n",
    "    else:\n",
    "        print(\"Confusion matrix, without normalization\")\n",
    "    \n",
    "    thresh = cm.max() / 2\n",
    "    for i, j in itertools.product(range(cm.shape[0]), range(cm.shape[1])):\n",
    "        plt.text(j, i, cm[i, j], \n",
    "                 horizontalalignment=\"center\", \n",
    "                 color=\"white\" if cm[i, j] > thresh else \"black\")\n",
    "    plt.tight_layout()\n",
    "    plt.ylabel(\"True Label\")\n",
    "    plt.xlabel(\"Predicted Label\")"
   ]
  },
  {
   "cell_type": "markdown",
   "id": "alike-polymer",
   "metadata": {
    "id": "alike-polymer"
   },
   "source": [
    "## Confusion Matrix of VGG16 Model"
   ]
  },
  {
   "cell_type": "code",
   "execution_count": null,
   "id": "devoted-woman",
   "metadata": {
    "colab": {
     "base_uri": "https://localhost:8080/",
     "height": 328
    },
    "id": "devoted-woman",
    "outputId": "39ddb916-37c9-43bf-8018-098f1c73c524"
   },
   "outputs": [
    {
     "name": "stdout",
     "output_type": "stream",
     "text": [
      "Confusion matrix, without normalization\n"
     ]
    },
    {
     "data": {
      "image/png": "[encoded data removed]",
      "text/plain": [
       "<Figure size 432x288 with 2 Axes>"
      ]
     },
     "metadata": {
      "needs_background": "light",
      "tags": []
     },
     "output_type": "display_data"
    }
   ],
   "source": [
    "cm = confusion_matrix(y_true=Test_Labels, y_pred=vgg16_predictions)\n",
    "plot_confusion_matrix(cm=cm, classes=class_labels)"
   ]
  },
  {
   "cell_type": "markdown",
   "id": "defensive-maldives",
   "metadata": {
    "id": "defensive-maldives"
   },
   "source": [
    "## Confusion Matrix of MobileNet Model "
   ]
  },
  {
   "cell_type": "code",
   "execution_count": null,
   "id": "noble-comparative",
   "metadata": {
    "colab": {
     "base_uri": "https://localhost:8080/",
     "height": 328
    },
    "id": "noble-comparative",
    "outputId": "bf1c1a2a-02a6-44e7-eb8e-9f9628b4192d"
   },
   "outputs": [
    {
     "name": "stdout",
     "output_type": "stream",
     "text": [
      "Confusion matrix, without normalization\n"
     ]
    },
    {
     "data": {
      "image/png": "[encoded data removed]",
      "text/plain": [
       "<Figure size 432x288 with 2 Axes>"
      ]
     },
     "metadata": {
      "needs_background": "light",
      "tags": []
     },
     "output_type": "display_data"
    }
   ],
   "source": [
    "cm = confusion_matrix(y_true=Test_Labels, y_pred=mobilenet_predictions)\n",
    "plot_confusion_matrix(cm=cm, classes=class_labels)"
   ]
  },
  {
   "cell_type": "markdown",
   "id": "dimensional-grave",
   "metadata": {
    "id": "dimensional-grave"
   },
   "source": [
    "## Confusion Matrix of the Combined Model"
   ]
  },
  {
   "cell_type": "code",
   "execution_count": null,
   "id": "assumed-orleans",
   "metadata": {
    "colab": {
     "base_uri": "https://localhost:8080/",
     "height": 328
    },
    "id": "assumed-orleans",
    "outputId": "cacbca94-5b99-47e9-8c17-66950d2b2502"
   },
   "outputs": [
    {
     "name": "stdout",
     "output_type": "stream",
     "text": [
      "Confusion matrix, without normalization\n"
     ]
    },
    {
     "data": {
      "image/png": "[encoded data removed]",
      "text/plain": [
       "<Figure size 432x288 with 2 Axes>"
      ]
     },
     "metadata": {
      "needs_background": "light",
      "tags": []
     },
     "output_type": "display_data"
    }
   ],
   "source": [
    "cm = confusion_matrix(y_true=Test_Labels, y_pred=combined_predictions)\n",
    "plot_confusion_matrix(cm=cm, classes=class_labels)"
   ]
  },
  {
   "cell_type": "markdown",
   "id": "unlikely-copyright",
   "metadata": {
    "id": "unlikely-copyright"
   },
   "source": [
    "## Observations\n",
    "As seen from above VGG16 Model has an accuracy of approximately 90.15%, MobileNet has an accuracy of approximately 89.95% and the Combined Model has an accuracy of approximately 93.9%. Hence the combination of VGG16 and MobileNet is significantly more accurate than both models. This is mainly because of the combination of MobileNet's low amount of trainable parameters (Causing a faster model) and VGG16's high amount of trainable parameters (Causing a more accurate model). Although the Combined Model has a higher accuracy the Combined Model uses both VGG16 Model and MobileNet Model hence it is slower than both models."
   ]
  }
 ],
 "metadata": {
  "accelerator": "GPU",
  "colab": {
   "collapsed_sections": [],
   "name": "AnimalsAllData.ipynb",
   "provenance": []
  },
  "kernelspec": {
   "display_name": "Python 3",
   "language": "python",
   "name": "python3"
  },
  "language_info": {
   "codemirror_mode": {
    "name": "ipython",
    "version": 3
   },
   "file_extension": ".py",
   "mimetype": "text/x-python",
   "name": "python",
   "nbconvert_exporter": "python",
   "pygments_lexer": "ipython3",
   "version": "3.9.5"
  }
 },
 "nbformat": 4,
 "nbformat_minor": 5
}
